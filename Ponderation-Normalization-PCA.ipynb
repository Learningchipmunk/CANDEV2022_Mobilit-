{
 "cells": [
  {
   "cell_type": "code",
   "execution_count": 1,
   "metadata": {},
   "outputs": [],
   "source": [
    "import numpy as np\n",
    "import pandas as pd\n",
    "import matplotlib\n",
    "import matplotlib.pyplot as plt\n",
    "import pickle\n",
    "import pathlib\n",
    "import os\n",
    "import copy\n",
    "import datetime\n",
    "import time\n",
    "# sklearn?\n"
   ]
  },
  {
   "cell_type": "code",
   "execution_count": 8,
   "metadata": {},
   "outputs": [],
   "source": [
    "df=pd.read_csv(\"C:\\\\Users\\\\Alya\\\\Downloads\\\\preprocessed_data_mobility.csv\", sep=',',encoding='utf8')"
   ]
  },
  {
   "cell_type": "code",
   "execution_count": 9,
   "metadata": {},
   "outputs": [
    {
     "name": "stdout",
     "output_type": "stream",
     "text": [
      "<class 'pandas.core.frame.DataFrame'>\n",
      "RangeIndex: 583123 entries, 0 to 583122\n",
      "Data columns (total 19 columns):\n",
      " #   Column                           Non-Null Count   Dtype  \n",
      "---  ------                           --------------   -----  \n",
      " 0   LEVEL1ID                         583123 non-null  int64  \n",
      " 1   SURVEYR                          583123 non-null  int64  \n",
      " 2   DEMCODE                          583123 non-null  int64  \n",
      " 3   QUESTION                         583123 non-null  int64  \n",
      " 4   ANSWER1                          583123 non-null  int64  \n",
      " 5   ANSWER2                          583123 non-null  int64  \n",
      " 6   ANSWER3                          583123 non-null  int64  \n",
      " 7   ANSWER4                          583123 non-null  int64  \n",
      " 8   ANSWER5                          583123 non-null  int64  \n",
      " 9   ANSWER6                          583123 non-null  int64  \n",
      " 10  ANSWER7                          583123 non-null  int64  \n",
      " 11  MOST_POSITIVE_OR_LEAST_NEGATIVE  583123 non-null  int64  \n",
      " 12  NEUTRAL_OR_MIDDLE_CATEGORY       583123 non-null  int64  \n",
      " 13  MOST_NEGATIVE_OR_LEAST_POSITIVE  583123 non-null  int64  \n",
      " 14  AGREE                            583123 non-null  int64  \n",
      " 15  SCORE5                           583123 non-null  float64\n",
      " 16  ANSCOUNT                         583123 non-null  int64  \n",
      " 17  INDICATORID                      583123 non-null  int64  \n",
      " 18  SUBINDICATORID                   583123 non-null  int64  \n",
      "dtypes: float64(1), int64(18)\n",
      "memory usage: 84.5 MB\n"
     ]
    }
   ],
   "source": [
    "df.info()"
   ]
  },
  {
   "cell_type": "markdown",
   "metadata": {},
   "source": [
    "# PCA"
   ]
  },
  {
   "cell_type": "code",
   "execution_count": 10,
   "metadata": {},
   "outputs": [],
   "source": [
    "from sklearn.decomposition import PCA"
   ]
  },
  {
   "cell_type": "code",
   "execution_count": 11,
   "metadata": {},
   "outputs": [],
   "source": [
    "#processed_data= pd.read_csv(\"Data_Katia.csv\")"
   ]
  },
  {
   "cell_type": "markdown",
   "metadata": {},
   "source": [
    "## Pondérer les données en multipliant le pourcentage par le nombre de réponses"
   ]
  },
  {
   "cell_type": "markdown",
   "metadata": {},
   "source": [
    "Changer les colonnes ANSWERi dans un nouveau df pondéré"
   ]
  },
  {
   "cell_type": "markdown",
   "metadata": {},
   "source": [
    "## Normaliser les données en enlevant les ANSWERS et en gardant le score"
   ]
  },
  {
   "cell_type": "markdown",
   "metadata": {},
   "source": [
    "## Séparer les données en X et y"
   ]
  },
  {
   "cell_type": "raw",
   "metadata": {},
   "source": [
    "#define label with label=['name of column']\n",
    "X_train = processed_data.drop(columns = label)\n",
    "y_train = processed_data[label]\n",
    "\n",
    "\n",
    "\n",
    "X_train.head()"
   ]
  },
  {
   "cell_type": "markdown",
   "metadata": {},
   "source": [
    "## Computing the PCA"
   ]
  },
  {
   "cell_type": "code",
   "execution_count": null,
   "metadata": {},
   "outputs": [],
   "source": [
    "pca = PCA(n_components=10)\n",
    "principalComponents = pca.fit_transform(X_train)\n",
    "\n",
    "\n",
    "principalDf = pd.DataFrame(data = principalComponents[:,:3],#we only take the first 3 components\n",
    "             columns = ['principal component 1', 'principal component 2', 'principal component 3'])\n",
    "\n",
    "principalDf"
   ]
  },
  {
   "cell_type": "code",
   "execution_count": null,
   "metadata": {},
   "outputs": [],
   "source": [
    "#make a df with the labels and the values of the PCA\n",
    "\n",
    "\n",
    "targets = pd.DataFrame(data = y_train,\n",
    "              columns = ['type'])\n",
    "finalDf = pd.concat([principalDf, targets], axis = 1)\n",
    "finalDf"
   ]
  },
  {
   "cell_type": "code",
   "execution_count": null,
   "metadata": {},
   "outputs": [],
   "source": [
    "#Plot distribution according to component 1 and 2\n",
    "\n",
    "fig = plt.figure(figsize = (8,8))\n",
    "ax = fig.add_subplot(1,1,1) \n",
    "ax.set_xlabel('Principal Component 1', fontsize = 15)\n",
    "ax.set_ylabel('Principal Component 2', fontsize = 15)\n",
    "ax.set_title('2 component PCA', fontsize = 20)\n",
    "targets = [-1, 0, 1] #change that as well\n",
    "class_name = ['Mix', 'Non_HFT', 'HFT']#change that to left or stayed\n",
    "colors = ['r', 'g', 'b']\n",
    "for target, color in zip(targets,colors):\n",
    "    indicesToKeep = target == finalDf['type']\n",
    "    ax.scatter(finalDf.loc[indicesToKeep, 'principal component 1']\n",
    "               , finalDf.loc[indicesToKeep, 'principal component 2']\n",
    "               , c = color\n",
    "               , s = 50)\n",
    "ax.legend(class_name)\n",
    "ax.grid()\n",
    "\n"
   ]
  },
  {
   "cell_type": "code",
   "execution_count": null,
   "metadata": {},
   "outputs": [],
   "source": [
    "#Plot distribution according to component 2 and 3\n",
    "\n",
    "fig = plt.figure(figsize = (8,8))\n",
    "ax = fig.add_subplot(1,1,1) \n",
    "ax.set_xlabel('Principal Component 2', fontsize = 15)\n",
    "ax.set_ylabel('Principal Component 3', fontsize = 15)\n",
    "ax.set_title('2 component PCA', fontsize = 20)\n",
    "\n",
    "for target, color in zip(targets,colors):\n",
    "    indicesToKeep = target == finalDf['type']\n",
    "    ax.scatter(finalDf.loc[indicesToKeep, 'principal component 2']\n",
    "               , finalDf.loc[indicesToKeep, 'principal component 3']\n",
    "               , c = color\n",
    "               , s = 50)\n",
    "ax.legend(class_name)\n",
    "ax.grid()"
   ]
  },
  {
   "cell_type": "code",
   "execution_count": null,
   "metadata": {},
   "outputs": [],
   "source": [
    "#Plot distribution according to component 2 and 3\n",
    "\n",
    "fig = plt.figure(figsize = (8,8))\n",
    "ax = fig.add_subplot(1,1,1) \n",
    "ax.set_xlabel('Principal Component 1', fontsize = 15)\n",
    "ax.set_ylabel('Principal Component 3', fontsize = 15)\n",
    "ax.set_title('2 component PCA', fontsize = 20)\n",
    "\n",
    "for target, color in zip(targets,colors):\n",
    "    indicesToKeep = target == finalDf['type']\n",
    "    ax.scatter(finalDf.loc[indicesToKeep, 'principal component 1']\n",
    "               , finalDf.loc[indicesToKeep, 'principal component 3']\n",
    "               , c = color\n",
    "               , s = 50)\n",
    "ax.legend(class_name)\n",
    "ax.grid()\n",
    "\n",
    "#could maybe have done all that with Seaborne"
   ]
  },
  {
   "cell_type": "code",
   "execution_count": null,
   "metadata": {},
   "outputs": [],
   "source": [
    "#Plotting PCA results in 3D\n",
    "from mpl_toolkits.mplot3d import Axes3D\n",
    "\n",
    "fig = plt.figure(1, figsize=(4, 3))\n",
    "plt.clf()\n",
    "ax = Axes3D(fig, rect=[0, 0, .95, 1], elev=48, azim=134)\n",
    "\n",
    "targets = [-1, 0, 1]\n",
    "class_name = ['Mix', 'Non_HFT', 'HFT']\n",
    "colors = ['r', 'g', 'b']\n",
    "\n",
    "\n",
    "for target, color in zip(targets,colors):\n",
    "    indicesToKeep = target == finalDf['type']\n",
    "    ax.text3D(finalDf.loc[indicesToKeep, 'principal component 1'].mean(),\n",
    "              finalDf.loc[indicesToKeep, 'principal component 2'].mean() + 1.5,\n",
    "              finalDf.loc[indicesToKeep, 'principal component 3'].mean(), class_name[target],\n",
    "              horizontalalignment='center',\n",
    "              bbox=dict(alpha=.5, edgecolor='w', facecolor='w'))\n",
    "# Reorder the labels to have colors matching the cluster results\n",
    "y = finalDf['type']\n",
    "\n",
    "ax.scatter(finalDf.loc[:, 'principal component 1'], finalDf.loc[:, 'principal component 2'], finalDf.loc[:, 'principal component 3'], c=y, cmap=plt.cm.nipy_spectral,\n",
    "           edgecolor='k')\n",
    "\n",
    "ax.w_xaxis.set_ticklabels([])\n",
    "ax.w_yaxis.set_ticklabels([])\n",
    "ax.w_zaxis.set_ticklabels([])\n",
    "\n",
    "plt.show()"
   ]
  },
  {
   "cell_type": "code",
   "execution_count": null,
   "metadata": {},
   "outputs": [],
   "source": [
    "#Plot explained variance ratio per component\n",
    "plt.plot(pca.explained_variance_ratio_, \".-\")\n",
    "plt.title(\"Explained Variance Ratio per Component\")\n",
    "plt.xlabel(\"Component\")\n",
    "plt.ylabel(\"Explained Variance Ratio\")\n",
    "plt.show()"
   ]
  },
  {
   "cell_type": "markdown",
   "metadata": {},
   "source": [
    "### Percentage of Explained variance by the 3 first components:"
   ]
  },
  {
   "cell_type": "code",
   "execution_count": null,
   "metadata": {},
   "outputs": [],
   "source": [
    "print(\"Percentage of explained variance of the first three components is qual to : {}\".format(np.sum(pca.explained_variance_ratio_[:3])))"
   ]
  },
  {
   "cell_type": "markdown",
   "metadata": {},
   "source": [
    "### First three components are made of:"
   ]
  },
  {
   "cell_type": "code",
   "execution_count": null,
   "metadata": {},
   "outputs": [],
   "source": [
    "three_comp = pd.DataFrame(data =pca.components_[:3], columns = X_train.columns)\n",
    "three_comp"
   ]
  }
 ],
 "metadata": {
  "interpreter": {
   "hash": "31f2aee4e71d21fbe5cf8b01ff0e069b9275f58929596ceb00d14d90e3e16cd6"
  },
  "kernelspec": {
   "display_name": "Python 3",
   "language": "python",
   "name": "python3"
  },
  "language_info": {
   "codemirror_mode": {
    "name": "ipython",
    "version": 3
   },
   "file_extension": ".py",
   "mimetype": "text/x-python",
   "name": "python",
   "nbconvert_exporter": "python",
   "pygments_lexer": "ipython3",
   "version": "3.8.5"
  }
 },
 "nbformat": 4,
 "nbformat_minor": 2
}
