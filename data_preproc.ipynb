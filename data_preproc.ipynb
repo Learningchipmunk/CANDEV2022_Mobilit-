{
 "cells": [
  {
   "cell_type": "code",
   "execution_count": 1,
   "metadata": {},
   "outputs": [],
   "source": [
    "import numpy as np\n",
    "import pandas as pd\n",
    "import matplotlib\n",
    "import matplotlib.pyplot as plt\n",
    "import pickle\n",
    "import pathlib\n",
    "import os\n",
    "import copy\n",
    "import datetime\n",
    "import time\n",
    "# sklearn?\n"
   ]
  },
  {
   "cell_type": "code",
   "execution_count": 2,
   "metadata": {},
   "outputs": [],
   "source": [
    "data = pd.read_csv(\"Data/subset-3-sous-ensemble-3.csv\", encoding='latin1')"
   ]
  },
  {
   "cell_type": "code",
   "execution_count": 3,
   "metadata": {},
   "outputs": [
    {
     "name": "stdout",
     "output_type": "stream",
     "text": [
      "(1405579, 35)\n",
      "Index(['LEVEL1ID', 'LEVEL2ID', 'LEVEL3ID', 'LEVEL4ID', 'LEVEL5ID', 'SURVEYR',\n",
      "       'BYCOND', 'DESCRIP_E', 'DESCRIP_F', 'DEMCODE', 'QUESTION', 'TITLE_E',\n",
      "       'TITLE_F', 'ANSWER1', 'ANSWER2', 'ANSWER3', 'ANSWER4', 'ANSWER5',\n",
      "       'ANSWER6', 'ANSWER7', 'MOST_POSITIVE_OR_LEAST_NEGATIVE',\n",
      "       'NEUTRAL_OR_MIDDLE_CATEGORY', 'MOST_NEGATIVE_OR_LEAST_POSITIVE',\n",
      "       'AGREE', 'SCORE5', 'SCORE100', 'ANSCOUNT', 'DEPT_E', 'DEPT_F',\n",
      "       'INDICATORID', 'INDICATORENG', 'INDICATORFRA', 'SUBINDICATORID',\n",
      "       'SUBINDICATORENG', 'SUBINDICATORFRA'],\n",
      "      dtype='object')\n"
     ]
    }
   ],
   "source": [
    "print(data.shape)\n",
    "print(data.columns)"
   ]
  },
  {
   "cell_type": "code",
   "execution_count": 4,
   "metadata": {},
   "outputs": [
    {
     "name": "stdout",
     "output_type": "stream",
     "text": [
      "(583123, 19)\n",
      "Index(['LEVEL1ID', 'SURVEYR', 'DEMCODE', 'QUESTION', 'ANSWER1', 'ANSWER2',\n",
      "       'ANSWER3', 'ANSWER4', 'ANSWER5', 'ANSWER6', 'ANSWER7',\n",
      "       'MOST_POSITIVE_OR_LEAST_NEGATIVE', 'NEUTRAL_OR_MIDDLE_CATEGORY',\n",
      "       'MOST_NEGATIVE_OR_LEAST_POSITIVE', 'AGREE', 'SCORE5', 'ANSCOUNT',\n",
      "       'INDICATORID', 'SUBINDICATORID'],\n",
      "      dtype='object')\n"
     ]
    }
   ],
   "source": [
    "# drop useless columns\n",
    "# drop those with only 1 value: LEVEL2ID, LEVEL3ID, LEVEL4ID, LEVEL5ID\n",
    "empty = []\n",
    "for col in data.columns:\n",
    "    uni = data[col].unique()\n",
    "    if len(uni)<2:\n",
    "        # print(col, uni)\n",
    "        data.drop(columns=[col], inplace=True)\n",
    "\n",
    "# DEMCODE = BYCOND, DESCRIP_E, DESCRIP_F\n",
    "# QUESTION = TITLE_E, TITLE_F\n",
    "# INDICATORID = INDICATORENG, INDICATORFRA\n",
    "# SUBINDICATORID = SUBINDICATORENG, SUBINDICATORFRA\n",
    "# LEVEL1ID = DEPT_E, DEPT_F\n",
    "# SCORE5 = X*SCORE100 + Y\n",
    "useless = ['BYCOND', 'DESCRIP_E', 'DESCRIP_F', 'TITLE_E', 'TITLE_F', 'SUBINDICATORENG', 'SUBINDICATORFRA', 'DEPT_E', 'DEPT_F', 'INDICATORENG', 'INDICATORFRA', 'SCORE100']\n",
    "try:\n",
    "    data.drop(columns=useless, inplace=True)\n",
    "except:\n",
    "    pass\n",
    "# drop empty lines\n",
    "data.drop(data[data['ANSWER1'] == ' '].index, inplace=True)\n",
    "\n",
    "# set ints\n",
    "traduction_question = {ques: i+101 for i, ques in enumerate(data['QUESTION'].unique())}\n",
    "data['QUESTION'] = data['QUESTION'].map(lambda x: traduction_question[x])\n",
    "\n",
    "data = data.astype({'SCORE5': 'float'}, copy=False)\n",
    "data = data.astype({col: 'int' for col in ['ANSWER1', 'ANSWER2', 'ANSWER3', 'ANSWER4', 'ANSWER5', 'ANSWER6', 'ANSWER7',\n",
    "    'MOST_POSITIVE_OR_LEAST_NEGATIVE', 'NEUTRAL_OR_MIDDLE_CATEGORY', 'MOST_NEGATIVE_OR_LEAST_POSITIVE', 'AGREE',\n",
    "    'ANSCOUNT']}, copy=False)\n",
    "\n",
    "print(data.shape)\n",
    "print(data.columns)"
   ]
  },
  {
   "cell_type": "code",
   "execution_count": 5,
   "metadata": {},
   "outputs": [
    {
     "name": "stdout",
     "output_type": "stream",
     "text": [
      "LEVEL1ID \t 68 \t <class 'numpy.int64'> \t 0\n",
      "SURVEYR \t 3 \t <class 'numpy.int64'> \t 2020\n",
      "DEMCODE \t 59 \t <class 'numpy.int64'> \t 2011\n",
      "QUESTION \t 216 \t <class 'numpy.int64'> \t 101\n",
      "ANSWER1 \t 101 \t <class 'numpy.int64'> \t 35\n",
      "ANSWER2 \t 101 \t <class 'numpy.int64'> \t 45\n",
      "ANSWER3 \t 87 \t <class 'numpy.int64'> \t 6\n",
      "ANSWER4 \t 71 \t <class 'numpy.int64'> \t 11\n",
      "ANSWER5 \t 82 \t <class 'numpy.int64'> \t 3\n",
      "ANSWER6 \t 74 \t <class 'numpy.int64'> \t 0\n",
      "ANSWER7 \t 65 \t <class 'numpy.int64'> \t 0\n",
      "MOST_POSITIVE_OR_LEAST_NEGATIVE \t 102 \t <class 'numpy.int64'> \t 81\n",
      "NEUTRAL_OR_MIDDLE_CATEGORY \t 86 \t <class 'numpy.int64'> \t 6\n",
      "MOST_NEGATIVE_OR_LEAST_POSITIVE \t 98 \t <class 'numpy.int64'> \t 14\n",
      "AGREE \t 102 \t <class 'numpy.int64'> \t 81\n",
      "SCORE5 \t 366 \t <class 'numpy.float64'> \t 3.99\n",
      "ANSCOUNT \t 15718 \t <class 'numpy.int64'> \t 73497\n",
      "INDICATORID \t 6 \t <class 'numpy.int64'> \t 4\n",
      "SUBINDICATORID \t 23 \t <class 'numpy.int64'> \t 14\n"
     ]
    }
   ],
   "source": [
    "for col in data.columns:\n",
    "    print(col, '\\t', len(data[col].unique()), '\\t', type(data[col][0]), '\\t', data[col][0])"
   ]
  },
  {
   "cell_type": "code",
   "execution_count": null,
   "metadata": {},
   "outputs": [],
   "source": []
  }
 ],
 "metadata": {
  "interpreter": {
   "hash": "31f2aee4e71d21fbe5cf8b01ff0e069b9275f58929596ceb00d14d90e3e16cd6"
  },
  "kernelspec": {
   "display_name": "Python 3.8.10 64-bit",
   "language": "python",
   "name": "python3"
  },
  "language_info": {
   "codemirror_mode": {
    "name": "ipython",
    "version": 3
   },
   "file_extension": ".py",
   "mimetype": "text/x-python",
   "name": "python",
   "nbconvert_exporter": "python",
   "pygments_lexer": "ipython3",
   "version": "3.8.10"
  },
  "orig_nbformat": 4
 },
 "nbformat": 4,
 "nbformat_minor": 2
}
