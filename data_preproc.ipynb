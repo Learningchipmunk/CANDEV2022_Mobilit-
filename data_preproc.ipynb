{
 "cells": [
  {
   "cell_type": "code",
   "execution_count": 1,
   "metadata": {},
   "outputs": [],
   "source": [
    "import numpy as np\n",
    "import pandas as pd\n",
    "import matplotlib\n",
    "import matplotlib.pyplot as plt\n",
    "import pickle\n",
    "import pathlib\n",
    "import os\n",
    "import copy\n",
    "import datetime\n",
    "import time\n",
    "# sklearn?\n"
   ]
  },
  {
   "cell_type": "code",
   "execution_count": 96,
   "metadata": {},
   "outputs": [],
   "source": [
    "data = pd.read_csv(\"Data/subset-3-sous-ensemble-3.csv\", encoding='latin1')"
   ]
  },
  {
   "cell_type": "code",
   "execution_count": 97,
   "metadata": {},
   "outputs": [
    {
     "name": "stdout",
     "output_type": "stream",
     "text": [
      "(1405579, 35)\n",
      "Index(['LEVEL1ID', 'LEVEL2ID', 'LEVEL3ID', 'LEVEL4ID', 'LEVEL5ID', 'SURVEYR',\n",
      "       'BYCOND', 'DESCRIP_E', 'DESCRIP_F', 'DEMCODE', 'QUESTION', 'TITLE_E',\n",
      "       'TITLE_F', 'ANSWER1', 'ANSWER2', 'ANSWER3', 'ANSWER4', 'ANSWER5',\n",
      "       'ANSWER6', 'ANSWER7', 'MOST_POSITIVE_OR_LEAST_NEGATIVE',\n",
      "       'NEUTRAL_OR_MIDDLE_CATEGORY', 'MOST_NEGATIVE_OR_LEAST_POSITIVE',\n",
      "       'AGREE', 'SCORE5', 'SCORE100', 'ANSCOUNT', 'DEPT_E', 'DEPT_F',\n",
      "       'INDICATORID', 'INDICATORENG', 'INDICATORFRA', 'SUBINDICATORID',\n",
      "       'SUBINDICATORENG', 'SUBINDICATORFRA'],\n",
      "      dtype='object')\n"
     ]
    }
   ],
   "source": [
    "print(data.shape)\n",
    "print(data.columns)"
   ]
  },
  {
   "cell_type": "code",
   "execution_count": 99,
   "metadata": {},
   "outputs": [
    {
     "name": "stdout",
     "output_type": "stream",
     "text": [
      "(583123, 19)\n",
      "Index(['LEVEL1ID', 'SURVEYR', 'DEMCODE', 'QUESTION', 'ANSWER1', 'ANSWER2',\n",
      "       'ANSWER3', 'ANSWER4', 'ANSWER5', 'ANSWER6', 'ANSWER7',\n",
      "       'MOST_POSITIVE_OR_LEAST_NEGATIVE', 'NEUTRAL_OR_MIDDLE_CATEGORY',\n",
      "       'MOST_NEGATIVE_OR_LEAST_POSITIVE', 'AGREE', 'SCORE5', 'ANSCOUNT',\n",
      "       'INDICATORID', 'SUBINDICATORID'],\n",
      "      dtype='object')\n"
     ]
    }
   ],
   "source": [
    "# drop useless columns\n",
    "# drop those with only 1 value: LEVEL2ID, LEVEL3ID, LEVEL4ID, LEVEL5ID\n",
    "empty = []\n",
    "for col in data.columns:\n",
    "    uni = data[col].unique()\n",
    "    if len(uni)<2:\n",
    "        # print(col, uni)\n",
    "        data.drop(columns=[col], inplace=True)\n",
    "\n",
    "# DEMCODE = BYCOND, DESCRIP_E, DESCRIP_F\n",
    "# QUESTION = TITLE_E, TITLE_F\n",
    "# INDICATORID = INDICATORENG, INDICATORFRA\n",
    "# SUBINDICATORID = SUBINDICATORENG, SUBINDICATORFRA\n",
    "# LEVEL1ID = DEPT_E, DEPT_F\n",
    "# SCORE5 = X*SCORE100 + Y\n",
    "useless = ['BYCOND', 'DESCRIP_E', 'DESCRIP_F', 'TITLE_E', 'TITLE_F', 'SUBINDICATORENG', 'SUBINDICATORFRA', 'DEPT_E', 'DEPT_F', 'INDICATORENG', 'INDICATORFRA', 'SCORE100']\n",
    "try:\n",
    "    data.drop(columns=useless, inplace=True)\n",
    "except:\n",
    "    pass\n",
    "# drop empty lines\n",
    "data.drop(data[data['ANSWER1'] == ' '].index, inplace=True)\n",
    "\n",
    "# set ints\n",
    "data = data.astype({'SCORE5': 'float'}, copy=False)\n",
    "data['QUESTION'] = data['QUESTION'].map(lambda x: x.lstrip('Q'))\n",
    "data = data.astype({col: 'int' for col in ['ANSWER1', 'ANSWER2', 'ANSWER3', 'ANSWER4', 'ANSWER5', 'ANSWER6', 'ANSWER7',\n",
    "    'MOST_POSITIVE_OR_LEAST_NEGATIVE', 'NEUTRAL_OR_MIDDLE_CATEGORY', 'MOST_NEGATIVE_OR_LEAST_POSITIVE', 'AGREE',\n",
    "    'ANSCOUNT']}, copy=False)\n",
    "\n",
    "print(data.shape)\n",
    "print(data.columns)"
   ]
  },
  {
   "cell_type": "code",
   "execution_count": 100,
   "metadata": {},
   "outputs": [
    {
     "name": "stdout",
     "output_type": "stream",
     "text": [
      "LEVEL1ID \t 68 \t <class 'numpy.int64'> \t 0\n",
      "SURVEYR \t 3 \t <class 'numpy.int64'> \t 2020\n",
      "DEMCODE \t 59 \t <class 'numpy.int64'> \t 2011\n",
      "QUESTION \t 216 \t <class 'str'> \t 01\n",
      "ANSWER1 \t 101 \t <class 'numpy.int64'> \t 35\n",
      "ANSWER2 \t 101 \t <class 'numpy.int64'> \t 45\n",
      "ANSWER3 \t 87 \t <class 'numpy.int64'> \t 6\n",
      "ANSWER4 \t 71 \t <class 'numpy.int64'> \t 11\n",
      "ANSWER5 \t 82 \t <class 'numpy.int64'> \t 3\n",
      "ANSWER6 \t 74 \t <class 'numpy.int64'> \t 0\n",
      "ANSWER7 \t 65 \t <class 'numpy.int64'> \t 0\n",
      "MOST_POSITIVE_OR_LEAST_NEGATIVE \t 102 \t <class 'numpy.int64'> \t 81\n",
      "NEUTRAL_OR_MIDDLE_CATEGORY \t 86 \t <class 'numpy.int64'> \t 6\n",
      "MOST_NEGATIVE_OR_LEAST_POSITIVE \t 98 \t <class 'numpy.int64'> \t 14\n",
      "AGREE \t 102 \t <class 'numpy.int64'> \t 81\n",
      "SCORE5 \t 366 \t <class 'numpy.float64'> \t 3.99\n",
      "ANSCOUNT \t 15718 \t <class 'numpy.int64'> \t 73497\n",
      "INDICATORID \t 6 \t <class 'numpy.int64'> \t 4\n",
      "SUBINDICATORID \t 23 \t <class 'numpy.int64'> \t 14\n"
     ]
    }
   ],
   "source": [
    "for col in data.columns:\n",
    "    print(col, '\\t', len(data[col].unique()), '\\t', type(data[col][0]), '\\t', data[col][0])"
   ]
  },
  {
   "cell_type": "code",
   "execution_count": 102,
   "metadata": {},
   "outputs": [
    {
     "name": "stdout",
     "output_type": "stream",
     "text": [
      "['01' '02' '03' '04' '05' '06' '07' '08' '09' '10' '11' '12' '13' '14'\n",
      " '15' '16' '17' '18a' '18b' '18c' '18d' '18e' '18f' '18g' '18h' '19' '20'\n",
      " '21' '22' '23' '24' '25' '26' '27' '28' '29' '30' '31' '32' '33' '34'\n",
      " '35' '36' '37' '38' '39' '40' '41' '42' '43a' '43b' '43c' '43d' '44' '45'\n",
      " '46' '47' '48' '49' '50' '51' '52' '53' '54' '55' '56a' '56b' '56c' '56d'\n",
      " '56e' '56f' '56g' '57a' '57b' '57c' '57d' '57e' '57f' '57g' '57h' '57i'\n",
      " '57j' '57k' '57l' '57m' '58a' '58b' '58c' '58d' '58e' '58f' '58g' '58h'\n",
      " '58i' '59a' '59b' '59c' '59d' '59e' '59f' '59g' '59h' '59i' '59j' '59k'\n",
      " '59l' '59m' '59n' '59o' '59p' '60' '61' '62' '63a' '63b' '63c' '63d'\n",
      " '63e' '63f' '63g' '64a' '64b' '64c' '64d' '64e' '64f' '64g' '64h' '64i'\n",
      " '64j' '64k' '64l' '64m' '64n' '65a' '65b' '65c' '65d' '65e' '65f' '65g'\n",
      " '65h' '65i' '66a' '66b' '66c' '66d' '66e' '66f' '66g' '66h' '66i' '66j'\n",
      " '66k' '66l' '66m' '66n' '66o' '66p' '67' '68' '69' '70a' '70b' '70c'\n",
      " '70d' '70e' '70f' '70g' '70h' '70i' '70j' '70k' '70l' '70m' '70n' '70o'\n",
      " '70p' '70q' '70r' '70s' '70t' '70u' '70v' '70w' '70x' '71' '72' '73' '74'\n",
      " '75' '76' '77' '78' '79a' '79b' '79c' '79d' '79e' '80' '81' '82' '84'\n",
      " '85' '86' '87' '88' '89' '90' '91' '92' '93' '94' '95' '96' '97']\n"
     ]
    }
   ],
   "source": [
    "print(data['QUESTION'].unique())"
   ]
  },
  {
   "cell_type": "code",
   "execution_count": null,
   "metadata": {},
   "outputs": [],
   "source": []
  }
 ],
 "metadata": {
  "interpreter": {
   "hash": "31f2aee4e71d21fbe5cf8b01ff0e069b9275f58929596ceb00d14d90e3e16cd6"
  },
  "kernelspec": {
   "display_name": "Python 3.8.10 64-bit",
   "language": "python",
   "name": "python3"
  },
  "language_info": {
   "codemirror_mode": {
    "name": "ipython",
    "version": 3
   },
   "file_extension": ".py",
   "mimetype": "text/x-python",
   "name": "python",
   "nbconvert_exporter": "python",
   "pygments_lexer": "ipython3",
   "version": "3.8.10"
  },
  "orig_nbformat": 4
 },
 "nbformat": 4,
 "nbformat_minor": 2
}
