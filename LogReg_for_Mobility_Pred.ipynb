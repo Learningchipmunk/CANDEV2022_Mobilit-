{
 "cells": [
  {
   "cell_type": "markdown",
   "id": "1232785b",
   "metadata": {},
   "source": [
    "# Logistic Regression for Mobility Prediction"
   ]
  },
  {
   "cell_type": "code",
   "execution_count": 1,
   "id": "b53781c7-302b-427f-b422-4171ddc1d67a",
   "metadata": {},
   "outputs": [],
   "source": [
    "import pandas as pd\n",
    "import numpy as np\n",
    "from sklearn import preprocessing\n",
    "import matplotlib.pyplot as plt \n",
    "plt.rc(\"font\", size=14)\n",
    "from sklearn.linear_model import LogisticRegression\n",
    "from sklearn.model_selection import train_test_split\n",
    "import seaborn as sns\n",
    "sns.set(style=\"white\")\n",
    "sns.set(style=\"whitegrid\", color_codes=True)"
   ]
  },
  {
   "cell_type": "code",
   "execution_count": 2,
   "id": "d7539558-32ba-4989-a494-0e41b7e55dc1",
   "metadata": {},
   "outputs": [
    {
     "name": "stdout",
     "output_type": "stream",
     "text": [
      "(4701, 1660)\n"
     ]
    }
   ],
   "source": [
    "data = pd.read_csv('Data/Preprocessed_Data_with_Label.csv', encoding='latin1')\n",
    "print(data.shape)"
   ]
  },
  {
   "cell_type": "markdown",
   "id": "71349e22",
   "metadata": {},
   "source": [
    "## Correlation study"
   ]
  },
  {
   "cell_type": "code",
   "execution_count": 127,
   "id": "cb25bf2e",
   "metadata": {
    "scrolled": true
   },
   "outputs": [
    {
     "data": {
      "image/png": "[encoded data removed]",
      "text/plain": [
       "<Figure size 1080x1080 with 2 Axes>"
      ]
     },
     "metadata": {},
     "output_type": "display_data"
    }
   ],
   "source": [
    "corr = data.iloc[:, :60].corr()\n",
    "# corr = X_train[X_train.columns[Features_per_Model[-1]]].corr()\n",
    "corr = data[['ID', 'ANSCOUNT_288', 'ANSCOUNT_294', 'SURVEYR', 'DEMCODE']].corr()\n",
    "corr = np.abs(corr)\n",
    "fig, ax = plt.subplots(figsize=(15, 15))\n",
    "ax = sns.heatmap(corr, annot=False, ax=ax, cmap=\"Blues\"); \n",
    "ax.set_title(\"Correlation between Variables\");"
   ]
  },
  {
   "cell_type": "markdown",
   "id": "4a174b3b",
   "metadata": {},
   "source": [
    "## Split Dataset"
   ]
  },
  {
   "cell_type": "code",
   "execution_count": 3,
   "id": "6cc1b416-3b41-4856-a1d5-f00643bf69cd",
   "metadata": {},
   "outputs": [],
   "source": [
    "labels           = data.columns[616:635]\n",
    "label_to_predict = labels[0]# Predicting the percentage of people that wants to leave their job"
   ]
  },
  {
   "cell_type": "code",
   "execution_count": 6,
   "id": "c8c67968-ec1e-47d7-9a4b-090a6ce6af90",
   "metadata": {},
   "outputs": [],
   "source": [
    "from verstack.stratified_continuous_split import scsplit"
   ]
  },
  {
   "cell_type": "code",
   "execution_count": 7,
   "id": "cccb452f-0843-4f2c-b396-191d669e146a",
   "metadata": {},
   "outputs": [],
   "source": [
    "X_train, X_test, y_train, y_test = scsplit(data.drop(columns=labels), data[label_to_predict],\n",
    "                                           stratify=data[label_to_predict],\n",
    "                                           train_size=0.8, test_size=0.2,\n",
    "                                            continuous = False) # tested"
   ]
  },
  {
   "cell_type": "markdown",
   "id": "c249adac",
   "metadata": {},
   "source": [
    "### Select k features"
   ]
  },
  {
   "cell_type": "code",
   "execution_count": null,
   "id": "93f7c60d",
   "metadata": {},
   "outputs": [],
   "source": [
    "from sklearn.feature_selection import RFE\n",
    "from sklearn.linear_model import LogisticRegression"
   ]
  },
  {
   "cell_type": "code",
   "execution_count": 70,
   "id": "3b1d56c8",
   "metadata": {},
   "outputs": [],
   "source": [
    "def RMSE(y_test, y_pred):\n",
    "    return np.sqrt(np.mean((y_pred-y_test)**2))"
   ]
  },
  {
   "cell_type": "code",
   "execution_count": 90,
   "id": "b2d190b1",
   "metadata": {},
   "outputs": [
    {
     "name": "stdout",
     "output_type": "stream",
     "text": [
      "Searching for 50 discriminant features\n",
      "\n",
      "Fitting estimator with 1641 features.\n",
      "Fitting estimator with 1441 features.\n",
      "Fitting estimator with 1241 features.\n",
      "Fitting estimator with 1041 features.\n",
      "Fitting estimator with 841 features.\n",
      "Fitting estimator with 641 features.\n",
      "Fitting estimator with 441 features.\n",
      "Fitting estimator with 241 features.\n",
      "\n",
      "RMSE for model with 50 features: 9.921262817705257\n",
      "\n",
      "Searching for 40 discriminant features\n",
      "\n",
      "Fitting estimator with 1641 features.\n",
      "Fitting estimator with 1441 features.\n",
      "Fitting estimator with 1241 features.\n",
      "Fitting estimator with 1041 features.\n",
      "Fitting estimator with 841 features.\n",
      "Fitting estimator with 641 features.\n",
      "Fitting estimator with 441 features.\n",
      "Fitting estimator with 241 features.\n",
      "Fitting estimator with 41 features.\n",
      "\n",
      "RMSE for model with 40 features: 9.768140975047162\n",
      "\n",
      "Searching for 30 discriminant features\n",
      "\n",
      "Fitting estimator with 1641 features.\n",
      "Fitting estimator with 1441 features.\n",
      "Fitting estimator with 1241 features.\n",
      "Fitting estimator with 1041 features.\n",
      "Fitting estimator with 841 features.\n",
      "Fitting estimator with 641 features.\n",
      "Fitting estimator with 441 features.\n",
      "Fitting estimator with 241 features.\n",
      "Fitting estimator with 41 features.\n",
      "\n",
      "RMSE for model with 30 features: 9.812590320560103\n",
      "\n",
      "Searching for 20 discriminant features\n",
      "\n",
      "Fitting estimator with 1641 features.\n",
      "Fitting estimator with 1441 features.\n",
      "Fitting estimator with 1241 features.\n",
      "Fitting estimator with 1041 features.\n",
      "Fitting estimator with 841 features.\n",
      "Fitting estimator with 641 features.\n",
      "Fitting estimator with 441 features.\n",
      "Fitting estimator with 241 features.\n",
      "Fitting estimator with 41 features.\n",
      "\n",
      "RMSE for model with 20 features: 9.647451800795462\n",
      "\n",
      "Searching for 10 discriminant features\n",
      "\n",
      "Fitting estimator with 1641 features.\n",
      "Fitting estimator with 1441 features.\n",
      "Fitting estimator with 1241 features.\n",
      "Fitting estimator with 1041 features.\n",
      "Fitting estimator with 841 features.\n",
      "Fitting estimator with 641 features.\n",
      "Fitting estimator with 441 features.\n",
      "Fitting estimator with 241 features.\n",
      "Fitting estimator with 41 features.\n",
      "\n",
      "RMSE for model with 10 features: 9.567923741250485\n",
      "\n",
      "Searching for 9 discriminant features\n",
      "\n",
      "Fitting estimator with 1641 features.\n",
      "Fitting estimator with 1441 features.\n",
      "Fitting estimator with 1241 features.\n",
      "Fitting estimator with 1041 features.\n",
      "Fitting estimator with 841 features.\n",
      "Fitting estimator with 641 features.\n",
      "Fitting estimator with 441 features.\n",
      "Fitting estimator with 241 features.\n",
      "Fitting estimator with 41 features.\n",
      "\n",
      "RMSE for model with 9 features: 9.636595586368552\n",
      "\n",
      "Searching for 8 discriminant features\n",
      "\n",
      "Fitting estimator with 1641 features.\n",
      "Fitting estimator with 1441 features.\n",
      "Fitting estimator with 1241 features.\n",
      "Fitting estimator with 1041 features.\n",
      "Fitting estimator with 841 features.\n",
      "Fitting estimator with 641 features.\n",
      "Fitting estimator with 441 features.\n",
      "Fitting estimator with 241 features.\n",
      "Fitting estimator with 41 features.\n",
      "\n",
      "RMSE for model with 8 features: 9.5976440608964\n",
      "\n",
      "Searching for 7 discriminant features\n",
      "\n",
      "Fitting estimator with 1641 features.\n",
      "Fitting estimator with 1441 features.\n",
      "Fitting estimator with 1241 features.\n",
      "Fitting estimator with 1041 features.\n",
      "Fitting estimator with 841 features.\n",
      "Fitting estimator with 641 features.\n",
      "Fitting estimator with 441 features.\n",
      "Fitting estimator with 241 features.\n",
      "Fitting estimator with 41 features.\n",
      "\n",
      "RMSE for model with 7 features: 9.585955454550193\n",
      "\n",
      "Searching for 6 discriminant features\n",
      "\n",
      "Fitting estimator with 1641 features.\n",
      "Fitting estimator with 1441 features.\n",
      "Fitting estimator with 1241 features.\n",
      "Fitting estimator with 1041 features.\n",
      "Fitting estimator with 841 features.\n",
      "Fitting estimator with 641 features.\n",
      "Fitting estimator with 441 features.\n",
      "Fitting estimator with 241 features.\n",
      "Fitting estimator with 41 features.\n",
      "\n",
      "RMSE for model with 6 features: 9.41960783099232\n",
      "\n",
      "Searching for 5 discriminant features\n",
      "\n",
      "Fitting estimator with 1641 features.\n",
      "Fitting estimator with 1441 features.\n",
      "Fitting estimator with 1241 features.\n",
      "Fitting estimator with 1041 features.\n",
      "Fitting estimator with 841 features.\n",
      "Fitting estimator with 641 features.\n",
      "Fitting estimator with 441 features.\n",
      "Fitting estimator with 241 features.\n",
      "Fitting estimator with 41 features.\n",
      "\n",
      "RMSE for model with 5 features: 9.375108926040957\n",
      "\n",
      "Searching for 4 discriminant features\n",
      "\n",
      "Fitting estimator with 1641 features.\n",
      "Fitting estimator with 1441 features.\n",
      "Fitting estimator with 1241 features.\n",
      "Fitting estimator with 1041 features.\n",
      "Fitting estimator with 841 features.\n",
      "Fitting estimator with 641 features.\n",
      "Fitting estimator with 441 features.\n",
      "Fitting estimator with 241 features.\n",
      "Fitting estimator with 41 features.\n",
      "\n",
      "RMSE for model with 4 features: 9.525289344067405\n",
      "\n",
      "Searching for 3 discriminant features\n",
      "\n",
      "Fitting estimator with 1641 features.\n",
      "Fitting estimator with 1441 features.\n",
      "Fitting estimator with 1241 features.\n",
      "Fitting estimator with 1041 features.\n",
      "Fitting estimator with 841 features.\n",
      "Fitting estimator with 641 features.\n",
      "Fitting estimator with 441 features.\n",
      "Fitting estimator with 241 features.\n",
      "Fitting estimator with 41 features.\n",
      "\n",
      "RMSE for model with 3 features: 9.596426008469273\n",
      "\n",
      "Searching for 2 discriminant features\n",
      "\n",
      "Fitting estimator with 1641 features.\n",
      "Fitting estimator with 1441 features.\n",
      "Fitting estimator with 1241 features.\n",
      "Fitting estimator with 1041 features.\n",
      "Fitting estimator with 841 features.\n",
      "Fitting estimator with 641 features.\n",
      "Fitting estimator with 441 features.\n",
      "Fitting estimator with 241 features.\n",
      "Fitting estimator with 41 features.\n",
      "\n",
      "RMSE for model with 2 features: 9.540060397663808\n",
      "\n",
      "Searching for 1 discriminant features\n",
      "\n",
      "Fitting estimator with 1641 features.\n",
      "Fitting estimator with 1441 features.\n",
      "Fitting estimator with 1241 features.\n",
      "Fitting estimator with 1041 features.\n",
      "Fitting estimator with 841 features.\n",
      "Fitting estimator with 641 features.\n",
      "Fitting estimator with 441 features.\n",
      "Fitting estimator with 241 features.\n",
      "Fitting estimator with 41 features.\n",
      "\n",
      "RMSE for model with 1 features: 9.657085410127166\n",
      "\n"
     ]
    }
   ],
   "source": [
    "num_features       = [50, 40, 30, 20, 10, 9, 8, 7, 6, 5, 4, 3, 2, 1]\n",
    "RMSE_per_Model     = []\n",
    "Features_per_Model = []\n",
    "\n",
    "for k in num_features:\n",
    "    print(\"Searching for {0} discriminant features\\n\".format(k))\n",
    "    logreg = LogisticRegression()\n",
    "\n",
    "    rfe    = RFE(logreg, n_features_to_select=k, step=200, verbose=1)\n",
    "    rfe    = rfe.fit(X_train, y_train)\n",
    "    y_pred = rfe.predict(X_test)\n",
    "    \n",
    "    ## Stores the RMSE on test dataset per model\n",
    "    RMSE_i = RMSE(y_test, y_pred)\n",
    "    RMSE_per_Model.append(RMSE_i)\n",
    "    print(\"\\nRMSE for model with {0} features: {1}\".format(k, RMSE_i))\n",
    "    \n",
    "    Features_per_Model = Features_per_Model + [rfe.support_]\n",
    "    print()"
   ]
  },
  {
   "cell_type": "code",
   "execution_count": 91,
   "id": "65c58fdd",
   "metadata": {},
   "outputs": [
    {
     "data": {
      "text/plain": [
       "[]"
      ]
     },
     "execution_count": 91,
     "metadata": {},
     "output_type": "execute_result"
    },
    {
     "data": {
      "image/png": "[encoded data removed]",
      "text/plain": [
       "<Figure size 432x288 with 1 Axes>"
      ]
     },
     "metadata": {},
     "output_type": "display_data"
    }
   ],
   "source": [
    "plt.plot(num_features, RMSE_per_Model)\n",
    "plt.title(\"RMSE on test dataset of a model with k features\")\n",
    "plt.ylabel(\"RMSE\")\n",
    "plt.xlabel(\"Number of features\")\n",
    "plt.plot()"
   ]
  },
  {
   "cell_type": "markdown",
   "id": "99ae8342",
   "metadata": {},
   "source": [
    "#### Visualize the features selected for the best model"
   ]
  },
  {
   "cell_type": "code",
   "execution_count": 120,
   "id": "f7211fc7",
   "metadata": {
    "scrolled": false
   },
   "outputs": [
    {
     "data": {
      "text/plain": [
       "Index(['ID', 'ANSCOUNT_288', 'ANSCOUNT_294', 'SURVEYR', 'DEMCODE'], dtype='object')"
      ]
     },
     "execution_count": 120,
     "metadata": {},
     "output_type": "execute_result"
    }
   ],
   "source": [
    "selected_features = X_train.columns[Features_per_Model[-5]]# Feature Filter\n",
    "X_train[selected_features].columns"
   ]
  },
  {
   "cell_type": "code",
   "execution_count": 121,
   "id": "f718af4f",
   "metadata": {},
   "outputs": [
    {
     "data": {
      "text/plain": [
       "5"
      ]
     },
     "execution_count": 121,
     "metadata": {},
     "output_type": "execute_result"
    }
   ],
   "source": [
    "sum(Features_per_Model[-5])"
   ]
  },
  {
   "cell_type": "code",
   "execution_count": 122,
   "id": "d01ecbb1",
   "metadata": {},
   "outputs": [],
   "source": [
    "logreg = LogisticRegression()\n",
    "result = logreg.fit(X_train[selected_features], y_train)"
   ]
  },
  {
   "cell_type": "code",
   "execution_count": 123,
   "id": "d724d14f",
   "metadata": {},
   "outputs": [],
   "source": [
    "y_pred = logreg.predict(X_test[selected_features])"
   ]
  },
  {
   "cell_type": "code",
   "execution_count": 124,
   "id": "89d8b361",
   "metadata": {},
   "outputs": [
    {
     "data": {
      "text/plain": [
       "9.375108926040957"
      ]
     },
     "execution_count": 124,
     "metadata": {},
     "output_type": "execute_result"
    }
   ],
   "source": [
    "print(\"The best value of \", RMSE(y_test, y_pred))"
   ]
  },
  {
   "cell_type": "markdown",
   "id": "e6e50737",
   "metadata": {},
   "source": [
    "#### Get the p-values for each model"
   ]
  },
  {
   "cell_type": "code",
   "execution_count": 139,
   "id": "b79d9a1a",
   "metadata": {},
   "outputs": [
    {
     "name": "stdout",
     "output_type": "stream",
     "text": [
      "Optimization terminated successfully.\n",
      "         Current function value: 0.528260\n",
      "         Iterations 4\n",
      "                           Logit Regression Results                           \n",
      "==============================================================================\n",
      "Dep. Variable:                      y   No. Observations:                 3760\n",
      "Model:                          Logit   Df Residuals:                     3759\n",
      "Method:                           MLE   Df Model:                            0\n",
      "Date:                Sat, 05 Feb 2022   Pseudo R-squ.:                  -5.613\n",
      "Time:                        19:11:05   Log-Likelihood:                -1986.3\n",
      "converged:                       True   LL-Null:                       -300.37\n",
      "Covariance Type:            nonrobust   LLR p-value:                       nan\n",
      "==============================================================================\n",
      "                 coef    std err          z      P>|z|      [0.025      0.975]\n",
      "------------------------------------------------------------------------------\n",
      "DEMCODE       -0.0004   1.76e-05    -24.755      0.000      -0.000      -0.000\n",
      "==============================================================================\n",
      "Optimization terminated successfully.\n",
      "         Current function value: 0.528215\n",
      "         Iterations 4\n",
      "                           Logit Regression Results                           \n",
      "==============================================================================\n",
      "Dep. Variable:                      y   No. Observations:                 3760\n",
      "Model:                          Logit   Df Residuals:                     3758\n",
      "Method:                           MLE   Df Model:                            1\n",
      "Date:                Sat, 05 Feb 2022   Pseudo R-squ.:                  -5.612\n",
      "Time:                        19:11:05   Log-Likelihood:                -1986.1\n",
      "converged:                       True   LL-Null:                       -300.37\n",
      "Covariance Type:            nonrobust   LLR p-value:                     1.000\n",
      "==============================================================================\n",
      "                 coef    std err          z      P>|z|      [0.025      0.975]\n",
      "------------------------------------------------------------------------------\n",
      "SURVEYR       -0.0008      0.002     -0.429      0.668      -0.005       0.003\n",
      "DEMCODE        0.0004      0.002      0.198      0.843      -0.003       0.004\n",
      "==============================================================================\n",
      "Optimization terminated successfully.\n",
      "         Current function value: 0.528210\n",
      "         Iterations 4\n",
      "                           Logit Regression Results                           \n",
      "==============================================================================\n",
      "Dep. Variable:                      y   No. Observations:                 3760\n",
      "Model:                          Logit   Df Residuals:                     3757\n",
      "Method:                           MLE   Df Model:                            2\n",
      "Date:                Sat, 05 Feb 2022   Pseudo R-squ.:                  -5.612\n",
      "Time:                        19:11:05   Log-Likelihood:                -1986.1\n",
      "converged:                       True   LL-Null:                       -300.37\n",
      "Covariance Type:            nonrobust   LLR p-value:                     1.000\n",
      "==============================================================================\n",
      "                 coef    std err          z      P>|z|      [0.025      0.975]\n",
      "------------------------------------------------------------------------------\n",
      "ID          7.586e-08   1.18e-06      0.064      0.949   -2.24e-06    2.39e-06\n",
      "SURVEYR       -0.0008      0.002     -0.432      0.666      -0.005       0.003\n",
      "DEMCODE        0.0004      0.002      0.200      0.841      -0.003       0.004\n",
      "==============================================================================\n",
      "Optimization terminated successfully.\n",
      "         Current function value: 0.528109\n",
      "         Iterations 4\n",
      "                           Logit Regression Results                           \n",
      "==============================================================================\n",
      "Dep. Variable:                      y   No. Observations:                 3760\n",
      "Model:                          Logit   Df Residuals:                     3756\n",
      "Method:                           MLE   Df Model:                            3\n",
      "Date:                Sat, 05 Feb 2022   Pseudo R-squ.:                  -5.611\n",
      "Time:                        19:11:05   Log-Likelihood:                -1985.7\n",
      "converged:                       True   LL-Null:                       -300.37\n",
      "Covariance Type:            nonrobust   LLR p-value:                     1.000\n",
      "================================================================================\n",
      "                   coef    std err          z      P>|z|      [0.025      0.975]\n",
      "--------------------------------------------------------------------------------\n",
      "ID            -4.19e-08   1.19e-06     -0.035      0.972   -2.38e-06     2.3e-06\n",
      "ANSCOUNT_294 -2.792e-06   4.26e-06     -0.655      0.512   -1.11e-05    5.56e-06\n",
      "SURVEYR         -0.0008      0.002     -0.396      0.692      -0.004       0.003\n",
      "DEMCODE          0.0003      0.002      0.166      0.868      -0.003       0.004\n",
      "================================================================================\n",
      "Optimization terminated successfully.\n",
      "         Current function value: 0.528102\n",
      "         Iterations 5\n",
      "                           Logit Regression Results                           \n",
      "==============================================================================\n",
      "Dep. Variable:                      y   No. Observations:                 3760\n",
      "Model:                          Logit   Df Residuals:                     3755\n",
      "Method:                           MLE   Df Model:                            4\n",
      "Date:                Sat, 05 Feb 2022   Pseudo R-squ.:                  -5.611\n",
      "Time:                        19:11:05   Log-Likelihood:                -1985.7\n",
      "converged:                       True   LL-Null:                       -300.37\n",
      "Covariance Type:            nonrobust   LLR p-value:                     1.000\n",
      "================================================================================\n",
      "                   coef    std err          z      P>|z|      [0.025      0.975]\n",
      "--------------------------------------------------------------------------------\n",
      "ID           -3.926e-08   1.19e-06     -0.033      0.974   -2.38e-06     2.3e-06\n",
      "ANSCOUNT_288    -0.0008      0.004     -0.208      0.836      -0.009       0.007\n",
      "ANSCOUNT_294     0.0008      0.004      0.207      0.836      -0.007       0.009\n",
      "SURVEYR         -0.0008      0.002     -0.395      0.693      -0.004       0.003\n",
      "DEMCODE          0.0003      0.002      0.165      0.869      -0.003       0.004\n",
      "================================================================================\n",
      "Optimization terminated successfully.\n",
      "         Current function value: 0.528055\n",
      "         Iterations 5\n",
      "                           Logit Regression Results                           \n",
      "==============================================================================\n",
      "Dep. Variable:                      y   No. Observations:                 3760\n",
      "Model:                          Logit   Df Residuals:                     3754\n",
      "Method:                           MLE   Df Model:                            5\n",
      "Date:                Sat, 05 Feb 2022   Pseudo R-squ.:                  -5.610\n",
      "Time:                        19:11:05   Log-Likelihood:                -1985.5\n",
      "converged:                       True   LL-Null:                       -300.37\n",
      "Covariance Type:            nonrobust   LLR p-value:                     1.000\n",
      "================================================================================\n",
      "                   coef    std err          z      P>|z|      [0.025      0.975]\n",
      "--------------------------------------------------------------------------------\n",
      "ID            -5.27e-08    1.2e-06     -0.044      0.965    -2.4e-06    2.29e-06\n",
      "ANSCOUNT_138    -0.0017      0.003     -0.521      0.602      -0.008       0.005\n",
      "ANSCOUNT_288    -0.0005      0.004     -0.111      0.912      -0.009       0.008\n",
      "ANSCOUNT_294     0.0022      0.005      0.416      0.677      -0.008       0.013\n",
      "SURVEYR         -0.0008      0.002     -0.395      0.693      -0.004       0.003\n",
      "DEMCODE          0.0003      0.002      0.166      0.868      -0.003       0.004\n",
      "================================================================================\n",
      "Optimization terminated successfully.\n",
      "         Current function value: 0.528045\n",
      "         Iterations 5\n",
      "                           Logit Regression Results                           \n",
      "==============================================================================\n",
      "Dep. Variable:                      y   No. Observations:                 3760\n",
      "Model:                          Logit   Df Residuals:                     3753\n",
      "Method:                           MLE   Df Model:                            6\n",
      "Date:                Sat, 05 Feb 2022   Pseudo R-squ.:                  -5.610\n",
      "Time:                        19:11:05   Log-Likelihood:                -1985.4\n",
      "converged:                       True   LL-Null:                       -300.37\n",
      "Covariance Type:            nonrobust   LLR p-value:                     1.000\n",
      "================================================================================\n",
      "                   coef    std err          z      P>|z|      [0.025      0.975]\n",
      "--------------------------------------------------------------------------------\n",
      "ID           -5.256e-08    1.2e-06     -0.044      0.965    -2.4e-06    2.29e-06\n",
      "ANSCOUNT_137    -0.0004      0.002     -0.254      0.800      -0.003       0.003\n",
      "ANSCOUNT_138    -0.0017      0.003     -0.491      0.623      -0.008       0.005\n",
      "ANSCOUNT_288    -0.0007      0.005     -0.148      0.882      -0.010       0.009\n",
      "ANSCOUNT_294     0.0027      0.006      0.454      0.650      -0.009       0.015\n",
      "SURVEYR         -0.0008      0.002     -0.402      0.688      -0.004       0.003\n",
      "DEMCODE          0.0003      0.002      0.172      0.863      -0.003       0.004\n",
      "================================================================================\n",
      "Optimization terminated successfully.\n",
      "         Current function value: 0.528043\n",
      "         Iterations 5\n",
      "                           Logit Regression Results                           \n",
      "==============================================================================\n",
      "Dep. Variable:                      y   No. Observations:                 3760\n",
      "Model:                          Logit   Df Residuals:                     3752\n",
      "Method:                           MLE   Df Model:                            7\n",
      "Date:                Sat, 05 Feb 2022   Pseudo R-squ.:                  -5.610\n",
      "Time:                        19:11:05   Log-Likelihood:                -1985.4\n",
      "converged:                       True   LL-Null:                       -300.37\n",
      "Covariance Type:            nonrobust   LLR p-value:                     1.000\n",
      "================================================================================\n",
      "                   coef    std err          z      P>|z|      [0.025      0.975]\n",
      "--------------------------------------------------------------------------------\n",
      "ID           -5.045e-08    1.2e-06     -0.042      0.966   -2.39e-06    2.29e-06\n",
      "ANSCOUNT_137    -0.0003      0.002     -0.219      0.827      -0.003       0.003\n",
      "ANSCOUNT_138   6.63e-05      0.015      0.004      0.997      -0.030       0.030\n",
      "ANSCOUNT_141    -0.0016      0.014     -0.115      0.908      -0.028       0.025\n",
      "ANSCOUNT_288    -0.0011      0.006     -0.185      0.853      -0.012       0.010\n",
      "ANSCOUNT_294     0.0029      0.006      0.460      0.646      -0.009       0.015\n",
      "SURVEYR         -0.0008      0.002     -0.397      0.691      -0.004       0.003\n",
      "DEMCODE          0.0003      0.002      0.168      0.866      -0.003       0.004\n",
      "================================================================================\n",
      "Optimization terminated successfully.\n",
      "         Current function value: 0.528037\n",
      "         Iterations 5\n",
      "                           Logit Regression Results                           \n",
      "==============================================================================\n",
      "Dep. Variable:                      y   No. Observations:                 3760\n",
      "Model:                          Logit   Df Residuals:                     3751\n",
      "Method:                           MLE   Df Model:                            8\n",
      "Date:                Sat, 05 Feb 2022   Pseudo R-squ.:                  -5.610\n",
      "Time:                        19:11:05   Log-Likelihood:                -1985.4\n",
      "converged:                       True   LL-Null:                       -300.37\n",
      "Covariance Type:            nonrobust   LLR p-value:                     1.000\n",
      "================================================================================\n",
      "                   coef    std err          z      P>|z|      [0.025      0.975]\n",
      "--------------------------------------------------------------------------------\n",
      "ID           -5.311e-08    1.2e-06     -0.044      0.965    -2.4e-06    2.29e-06\n",
      "ANSCOUNT_137     0.0001      0.004      0.036      0.971      -0.007       0.007\n",
      "ANSCOUNT_138  2.168e-05      0.015      0.001      0.999      -0.030       0.030\n",
      "ANSCOUNT_141    -0.0015      0.014     -0.109      0.914      -0.028       0.025\n",
      "ANSCOUNT_143    -0.0011      0.008     -0.147      0.883      -0.016       0.014\n",
      "ANSCOUNT_288    -0.0006      0.007     -0.090      0.928      -0.013       0.012\n",
      "ANSCOUNT_294     0.0030      0.006      0.469      0.639      -0.010       0.016\n",
      "SURVEYR         -0.0008      0.002     -0.398      0.691      -0.004       0.003\n",
      "DEMCODE          0.0003      0.002      0.169      0.866      -0.003       0.004\n",
      "================================================================================\n"
     ]
    },
    {
     "name": "stdout",
     "output_type": "stream",
     "text": [
      "Optimization terminated successfully.\n",
      "         Current function value: 0.528014\n",
      "         Iterations 5\n",
      "                           Logit Regression Results                           \n",
      "==============================================================================\n",
      "Dep. Variable:                      y   No. Observations:                 3760\n",
      "Model:                          Logit   Df Residuals:                     3750\n",
      "Method:                           MLE   Df Model:                            9\n",
      "Date:                Sat, 05 Feb 2022   Pseudo R-squ.:                  -5.610\n",
      "Time:                        19:11:05   Log-Likelihood:                -1985.3\n",
      "converged:                       True   LL-Null:                       -300.37\n",
      "Covariance Type:            nonrobust   LLR p-value:                     1.000\n",
      "================================================================================\n",
      "                   coef    std err          z      P>|z|      [0.025      0.975]\n",
      "--------------------------------------------------------------------------------\n",
      "ID           -2.193e-08    1.2e-06     -0.018      0.985   -2.37e-06    2.33e-06\n",
      "ANSCOUNT_137    -0.0003      0.004     -0.082      0.935      -0.007       0.007\n",
      "ANSCOUNT_138    -0.0004      0.015     -0.029      0.977      -0.031       0.030\n",
      "ANSCOUNT_141    -0.0008      0.014     -0.056      0.955      -0.028       0.026\n",
      "ANSCOUNT_143    -0.0033      0.010     -0.337      0.736      -0.022       0.016\n",
      "ANSCOUNT_211     0.0041      0.012      0.347      0.729      -0.019       0.027\n",
      "ANSCOUNT_288    -0.0022      0.008     -0.280      0.780      -0.018       0.013\n",
      "ANSCOUNT_294     0.0029      0.006      0.459      0.646      -0.010       0.015\n",
      "SURVEYR         -0.0008      0.002     -0.401      0.689      -0.004       0.003\n",
      "DEMCODE          0.0003      0.002      0.171      0.864      -0.003       0.004\n",
      "================================================================================\n"
     ]
    }
   ],
   "source": [
    "import statsmodels.api as sm\n",
    "\n",
    "for selected_features in [X_train.columns[Features_per_Model[-i]] for i in range (1, 11)]:\n",
    "    logit_model=sm.Logit(y_train/100, X_train[selected_features])\n",
    "    result=logit_model.fit()\n",
    "    print(result.summary())"
   ]
  }
 ],
 "metadata": {
  "kernelspec": {
   "display_name": "Python 3 (ipykernel)",
   "language": "python",
   "name": "python3"
  },
  "language_info": {
   "codemirror_mode": {
    "name": "ipython",
    "version": 3
   },
   "file_extension": ".py",
   "mimetype": "text/x-python",
   "name": "python",
   "nbconvert_exporter": "python",
   "pygments_lexer": "ipython3",
   "version": "3.9.5"
  }
 },
 "nbformat": 4,
 "nbformat_minor": 5
}
